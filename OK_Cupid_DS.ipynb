{
  "nbformat": 4,
  "nbformat_minor": 0,
  "metadata": {
    "colab": {
      "name": "OK_Cupid_DS.ipynb",
      "provenance": [],
      "collapsed_sections": [],
      "toc_visible": true,
      "mount_file_id": "1afYWCHp9cXOQ7skFIiwpa6ntf5_ydzMu",
      "authorship_tag": "ABX9TyPKVj2e61ogOPERIgZ613jR",
      "include_colab_link": true
    },
    "kernelspec": {
      "name": "python3",
      "display_name": "Python 3"
    },
    "language_info": {
      "name": "python"
    }
  },
  "cells": [
    {
      "cell_type": "markdown",
      "metadata": {
        "id": "view-in-github",
        "colab_type": "text"
      },
      "source": [
        "<a href=\"https://colab.research.google.com/github/gfdiazc/ok-cupid-ds/blob/master/OK_Cupid_DS.ipynb\" target=\"_parent\"><img src=\"https://colab.research.google.com/assets/colab-badge.svg\" alt=\"Open In Colab\"/></a>"
      ]
    },
    {
      "cell_type": "code",
      "metadata": {
        "id": "P-oCT1qHdRtk"
      },
      "source": [
        "import pandas as pd"
      ],
      "execution_count": 1,
      "outputs": []
    },
    {
      "cell_type": "code",
      "metadata": {
        "id": "XvNu6XMRdewN"
      },
      "source": [
        "df = pd.read_csv('/content/drive/MyDrive/Data Science Portfolio/OK-Cupid/profiles.csv')"
      ],
      "execution_count": 2,
      "outputs": []
    }
  ]
}